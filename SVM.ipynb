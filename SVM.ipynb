{
 "cells": [
  {
   "cell_type": "code",
   "execution_count": null,
   "metadata": {},
   "outputs": [],
   "source": [
    "'''\n",
    "SVM Kernels\n",
    "\n",
    "The SVM algorithm is implemented in practice using a kernel. \n",
    "A kernel transforms an input data space into the required form. SVM uses a technique called the kernel trick. \n",
    "Here, the kernel takes a low-dimensional input space and transforms it into a higher dimensional space. \n",
    "In other words,you can say that it converts nonseparable problem to separable problems by adding more dimension to it.\n",
    "It is most useful in non-linear separation problem. Kernel trick helps you to build a more accurate classifier.\n",
    "\n",
    "Linear Kernel A linear kernel can be used as normal dot product any two given observations. \n",
    "The product between two vectors is the sum of the multiplication of each pair of input values.\n",
    "\n",
    "K(x, xi) = sum(x * xi)\n",
    "\n",
    "\n",
    "Polynomial Kernel A polynomial kernel is a more generalized form of the linear kernel. \n",
    "The polynomial kernel can distinguish curved or nonlinear input space.\n",
    "\n",
    "K(x,xi) = 1 + sum(x * xi)^d\n",
    "\n",
    "Where d is the degree of the polynomial. d=1 is similar to the linear transformation. \n",
    "The degree needs to be manually specified in the learning algorithm.\n",
    "\n",
    "Radial Basis Function Kernel \n",
    "\n",
    "The Radial basis function kernel is a popular kernel function commonly used in support vector machine classification. \n",
    "RBF can map an input space in infinite dimensional space.\n",
    "\n",
    "K(x,xi) = exp(-gamma * sum((x – xi^2))\n",
    "\n",
    "Here gamma is a parameter, which ranges from 0 to 1. \n",
    "A higher value of gamma will perfectly fit the training dataset, which causes over-fitting. \n",
    "Gamma=0.1 is considered to be a good default value. \n",
    "The value of gamma needs to be manually specified in the learning algorithm.\n",
    "'''"
   ]
  },
  {
   "cell_type": "code",
   "execution_count": null,
   "metadata": {},
   "outputs": [],
   "source": [
    "from sklearn import svm\n",
    "from sklearn import metrics\n",
    "from sklearn import datasets\n",
    "from sklearn.model_selection import train_test_split"
   ]
  },
  {
   "cell_type": "code",
   "execution_count": null,
   "metadata": {},
   "outputs": [],
   "source": [
    "#Load dataset\n",
    "cancer = datasets.load_breast_cancer()\n",
    "# print the names of the 13 features\n",
    "print(\"Features: \", cancer.feature_names)\n",
    "# print the label type of cancer('malignant' 'benign')\n",
    "print(\"Labels: \", cancer.target_names)\n",
    "print(\"Shape: \", cancer.data.shape)"
   ]
  },
  {
   "cell_type": "code",
   "execution_count": null,
   "metadata": {},
   "outputs": [],
   "source": [
    "# Split dataset into training set and test set\n",
    "X_train, X_test, y_train, y_test = train_test_split(cancer.data, cancer.target, test_size=0.3,random_state=109) "
   ]
  },
  {
   "cell_type": "code",
   "execution_count": null,
   "metadata": {},
   "outputs": [],
   "source": [
    "#Import svm model\n",
    "#Create a svm Classifier\n",
    "clf = svm.SVC(kernel='linear') # Linear Kernel\n",
    "#Train the model using the training sets\n",
    "clf.fit(X_train, y_train)\n",
    "#Predict the response for test dataset\n",
    "y_pred = clf.predict(X_test)\n",
    "# Model Accuracy: how often is the classifier correct?\n",
    "print(\"Accuracy:\",metrics.accuracy_score(y_test, y_pred))\n",
    "# Model Precision: what percentage of positive tuples are labeled as such?\n",
    "print(\"Precision:\",metrics.precision_score(y_test, y_pred))\n",
    "# Model Recall: what percentage of positive tuples are labelled as such?\n",
    "print(\"Recall:\",metrics.recall_score(y_test, y_pred))"
   ]
  }
 ],
 "metadata": {
  "kernelspec": {
   "display_name": "conda_python3",
   "language": "python",
   "name": "conda_python3"
  },
  "language_info": {
   "codemirror_mode": {
    "name": "ipython",
    "version": 3
   },
   "file_extension": ".py",
   "mimetype": "text/x-python",
   "name": "python",
   "nbconvert_exporter": "python",
   "pygments_lexer": "ipython3",
   "version": "3.6.10"
  }
 },
 "nbformat": 4,
 "nbformat_minor": 4
}
