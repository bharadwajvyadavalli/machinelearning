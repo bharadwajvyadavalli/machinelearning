{
 "cells": [
  {
   "cell_type": "code",
   "execution_count": null,
   "metadata": {},
   "outputs": [],
   "source": [
    "import os\n",
    "import io\n",
    "import json\n",
    "import xlrd\n",
    "import boto3\n",
    "import numpy as np\n",
    "import pandas as pd\n",
    "import seaborn as sns\n",
    "from sklearn import metrics\n",
    "import matplotlib.pyplot as plt\n",
    "from sklearn.metrics import roc_curve\n",
    "from sklearn.metrics import roc_auc_score\n",
    "from sklearn.metrics import confusion_matrix\n",
    "from sklearn.metrics import classification_report\n",
    "from sklearn.linear_model import LogisticRegression\n",
    "from sklearn.ensemble import RandomForestClassifier\n",
    "from sklearn.model_selection import train_test_split\n",
    "from sklearn.ensemble import GradientBoostingClassifier"
   ]
  },
  {
   "cell_type": "code",
   "execution_count": null,
   "metadata": {},
   "outputs": [],
   "source": [
    "bucket_name, object_key = \"machinelearningsamplesyvb\", \"logisticregression_sampledata.xlsx\"\n",
    "# to make this notebook's output identical at every run\n",
    "np.random.seed(42)\n",
    "\n",
    "s3 = boto3.client('s3')\n",
    "obj = s3.get_object(Bucket=bucket_name, Key=object_key)\n",
    "data = obj['Body'].read()\n",
    "df = pd.read_excel(io.BytesIO(data), encoding='utf-8',sheet_name='data')\n",
    "\n",
    "df[\"charges\"] = df[\"charges\"] / df[\"charges\"].mean(axis = 0) \n",
    "df[\"steps\"] = df[\"steps\"] / df[\"steps\"].mean(axis = 0) \n",
    "df[\"bmi\"] = df[\"bmi\"] / df[\"bmi\"].mean(axis = 0) \n",
    "agerange = pd.cut(df.age, bins=[0,18,35,50,65], labels=[1,2,3,4])\n",
    "df.insert(0,\"agerange\",agerange)\n",
    "df['agerange'] = pd.factorize(df.agerange)[0]\n",
    "\n",
    "#sns.pairplot(df, kind=\"scatter\")\n",
    "#plt.show()\n",
    "df.corr()"
   ]
  },
  {
   "cell_type": "code",
   "execution_count": null,
   "metadata": {},
   "outputs": [],
   "source": [
    "y = df[\"insuranceclaim\"]\n",
    "#drop columns that are not correlated to insuranceclaim -- age, sex, region\n",
    "X = df.drop([\"age\",\"sex\",\"region\",\"insuranceclaim\"], axis=1)\n",
    "\n",
    "X_train, X_test, y_train, y_test = train_test_split(X, y, test_size=0.2, random_state=0)\n",
    "logreg = LogisticRegression()\n",
    "logreg.fit(X_train, y_train)\n",
    "\n",
    "clf = RandomForestClassifier(max_depth=2, random_state=0)\n",
    "clf.fit(X_train, y_train)\n",
    "\n",
    "clf_gb = GradientBoostingClassifier(random_state=0)\n",
    "clf_gb.fit(X_train, y_train)\n",
    "\n",
    "y_pred = logreg.predict(X_test)\n",
    "confusion_matrix = confusion_matrix(y_test, y_pred)\n",
    "print('Accuracy of logistic regression classifier on test set: {:.2f}'.format(logreg.score(X_test, y_test)))\n",
    "print('Accuracy of random forest model on test set: {:.2f}'.format(clf.score(X_test, y_test)))\n",
    "print('Accuracy of gradientboost model on test set: {:.2f}'.format(clf_gb.score(X_test, y_test)))\n",
    "print(confusion_matrix)\n",
    "print(classification_report(y_test, y_pred))"
   ]
  },
  {
   "cell_type": "code",
   "execution_count": null,
   "metadata": {},
   "outputs": [],
   "source": [
    "#logit_roc_auc = roc_auc_score(y_test, logreg.predict(X_test))\n",
    "fpr, tpr, thresholds = roc_curve(y_test, logreg.predict_proba(X_test)[:,1])\n",
    "fpr_, tpr_, thresholds_ = roc_curve(y_test, clf.predict_proba(X_test)[:,1])\n",
    "fpr_gb, tpr_gb, thresholds_gb = roc_curve(y_test, clf_gb.predict_proba(X_test)[:,1])\n",
    "\n",
    "roc_auc_area = metrics.auc(fpr, tpr)\n",
    "roc_auc_area_ = metrics.auc(fpr_, tpr_)\n",
    "roc_auc_area_gb = metrics.auc(fpr_gb, tpr_gb)\n",
    "\n",
    "plt.figure()\n",
    "\n",
    "plt.plot(fpr, tpr, label='Logistic Regression (area = %0.2f)' % roc_auc_area)\n",
    "plt.plot(fpr_, tpr_, label='Random Forest (area = %0.2f)' % roc_auc_area_)\n",
    "plt.plot(fpr_gb, tpr_gb, label='Gradient Boost (area = %0.2f)' % roc_auc_area_gb)\n",
    "\n",
    "plt.plot([0, 1], [0, 1],'r--')\n",
    "plt.xlim([0.0, 1.0])\n",
    "plt.ylim([0.0, 1.05])\n",
    "\n",
    "plt.xlabel('False Positive Rate')\n",
    "plt.ylabel('True Positive Rate')\n",
    "plt.title('Receiver operating characteristic')\n",
    "plt.legend(loc=\"lower right\")\n",
    "\n",
    "plt.show()"
   ]
  }
 ],
 "metadata": {
  "kernelspec": {
   "display_name": "conda_python3",
   "language": "python",
   "name": "conda_python3"
  },
  "language_info": {
   "codemirror_mode": {
    "name": "ipython",
    "version": 3
   },
   "file_extension": ".py",
   "mimetype": "text/x-python",
   "name": "python",
   "nbconvert_exporter": "python",
   "pygments_lexer": "ipython3",
   "version": "3.6.10"
  }
 },
 "nbformat": 4,
 "nbformat_minor": 4
}
